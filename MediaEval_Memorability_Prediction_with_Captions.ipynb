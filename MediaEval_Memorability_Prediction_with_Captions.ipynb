{
  "nbformat": 4,
  "nbformat_minor": 0,
  "metadata": {
    "colab": {
      "name": "MediaEval_Memorability_Prediction_with_Captions_18210318.ipynb",
      "version": "0.3.2",
      "provenance": [],
      "collapsed_sections": []
    },
    "kernelspec": {
      "display_name": "Python 3",
      "language": "python",
      "name": "python3"
    }
  },
  "cells": [
    {
      "metadata": {
        "colab_type": "text",
        "id": "GlLRy-eGpW_R"
      },
      "cell_type": "markdown",
      "source": [
        "##Calculated Spearman Coefficient to measures the strength and direction of association between two ranked variables.\n",
        "\n"
      ]
    },
    {
      "metadata": {
        "colab_type": "code",
        "id": "Hnt-pb8SpVnb",
        "colab": {}
      },
      "cell_type": "code",
      "source": [
        "def Get_score(Y_pred,Y_true):\n",
        "    '''Calculate the Spearmann\"s correlation coefficient'''\n",
        "    Y_pred = np.squeeze(Y_pred)\n",
        "    Y_true = np.squeeze(Y_true)\n",
        "    if Y_pred.shape != Y_true.shape:\n",
        "        print('Input shapes don\\'t match!')\n",
        "    else:\n",
        "        if len(Y_pred.shape) == 1:\n",
        "            Res = pd.DataFrame({'Y_true':Y_true,'Y_pred':Y_pred})\n",
        "            score_mat = Res[['Y_true','Y_pred']].corr(method='spearman',min_periods=1)\n",
        "            print('The Spearman\\'s correlation coefficient is: %.3f' % score_mat.iloc[1][0])\n",
        "        else:\n",
        "            for ii in range(Y_pred.shape[1]):\n",
        "                Get_score(Y_pred[:,ii],Y_true[:,ii])"
      ],
      "execution_count": 0,
      "outputs": []
    },
    {
      "metadata": {
        "colab_type": "text",
        "id": "p8e4MC17MbLt"
      },
      "cell_type": "markdown",
      "source": [
        "## Mounting the drive"
      ]
    },
    {
      "metadata": {
        "colab_type": "code",
        "id": "gmHGm8KkJhpH",
        "outputId": "27980869-1fd6-4c60-e03c-d811793a3d2c",
        "colab": {
          "base_uri": "https://localhost:8080/",
          "height": 35
        }
      },
      "cell_type": "code",
      "source": [
        "from google.colab import drive\n",
        "import os\n",
        "drive.mount('/content/drive/')\n",
        "os.chdir('/content/drive/My Drive/machine_learning_assign/data')"
      ],
      "execution_count": 2,
      "outputs": [
        {
          "output_type": "stream",
          "text": [
            "Drive already mounted at /content/drive/; to attempt to forcibly remount, call drive.mount(\"/content/drive/\", force_remount=True).\n"
          ],
          "name": "stdout"
        }
      ]
    },
    {
      "metadata": {
        "colab_type": "code",
        "id": "PQs8xyqWMMqd",
        "outputId": "5e32a5e5-012c-457b-d7ae-177ee23f3295",
        "colab": {
          "base_uri": "https://localhost:8080/",
          "height": 35
        }
      },
      "cell_type": "code",
      "source": [
        "!pip install pyprind"
      ],
      "execution_count": 3,
      "outputs": [
        {
          "output_type": "stream",
          "text": [
            "Requirement already satisfied: pyprind in /usr/local/lib/python3.6/dist-packages (2.11.2)\n"
          ],
          "name": "stdout"
        }
      ]
    },
    {
      "metadata": {
        "colab_type": "text",
        "id": "djqGxsKKQgSe"
      },
      "cell_type": "markdown",
      "source": [
        "# Importing Libraries"
      ]
    },
    {
      "metadata": {
        "colab_type": "code",
        "id": "BUoJ716BNQy7",
        "colab": {
          "base_uri": "https://localhost:8080/",
          "height": 35
        },
        "outputId": "dd546977-404e-4d72-bcdd-e6eea57f9838"
      },
      "cell_type": "code",
      "source": [
        "import pandas as pd\n",
        "import keras\n",
        "from keras.layers import Dense\n",
        "from keras.models import Sequential\n",
        "from sklearn.model_selection import train_test_split\n",
        "from sklearn.feature_extraction.text import TfidfVectorizer\n",
        "\n",
        "\n",
        "import numpy as np\n",
        "from string import punctuation\n",
        "import pyprind\n",
        "from collections import Counter\n",
        "#from keras.preprocessing.text import Tokenizer\n",
        "import matplotlib.pyplot as plt"
      ],
      "execution_count": 4,
      "outputs": [
        {
          "output_type": "stream",
          "text": [
            "Using TensorFlow backend.\n"
          ],
          "name": "stderr"
        }
      ]
    },
    {
      "metadata": {
        "colab_type": "text",
        "id": "1FzRQ83snVRb"
      },
      "cell_type": "markdown",
      "source": [
        "# Loading Captions and Video Memorability from the two files"
      ]
    },
    {
      "metadata": {
        "colab_type": "code",
        "id": "PIxKRIl5m41H",
        "colab": {}
      },
      "cell_type": "code",
      "source": [
        "# loading labels and captions\n",
        "def read_caps(fname):\n",
        "    \"\"\"Load the captions into a dataframe\"\"\"\n",
        "    vn = []\n",
        "    cap = []\n",
        "    df = pd.DataFrame();\n",
        "    with open(fname) as f:\n",
        "        for line in f:\n",
        "            pairs = line.split()\n",
        "            vn.append(pairs[0])\n",
        "            cap.append(pairs[1])\n",
        "        df['video']=vn\n",
        "        df['caption']=cap\n",
        "    return df\n",
        "\n",
        "\n",
        "# load the captions\n",
        "cap_path = './dev-set_video-captions.txt'\n",
        "df_captions=read_caps(cap_path)\n",
        "\n",
        "# load the ground truth values\n",
        "label_path = './'\n",
        "labels=pd.read_csv(label_path+'dev-set_ground-truth.csv')"
      ],
      "execution_count": 0,
      "outputs": []
    },
    {
      "metadata": {
        "colab_type": "text",
        "id": "lYAInr8mrWnI"
      },
      "cell_type": "markdown",
      "source": [
        "##Joining the dataframes."
      ]
    },
    {
      "metadata": {
        "colab_type": "code",
        "id": "jCotH3F1rVv6",
        "outputId": "d1084c41-72ee-49cf-ab94-115f159fdb40",
        "colab": {
          "base_uri": "https://localhost:8080/",
          "height": 2141
        }
      },
      "cell_type": "code",
      "source": [
        "df = df_captions.merge(labels,on=[\"video\"],how=\"inner\")\n",
        "df"
      ],
      "execution_count": 6,
      "outputs": [
        {
          "output_type": "execute_result",
          "data": {
            "text/html": [
              "<div>\n",
              "<style scoped>\n",
              "    .dataframe tbody tr th:only-of-type {\n",
              "        vertical-align: middle;\n",
              "    }\n",
              "\n",
              "    .dataframe tbody tr th {\n",
              "        vertical-align: top;\n",
              "    }\n",
              "\n",
              "    .dataframe thead th {\n",
              "        text-align: right;\n",
              "    }\n",
              "</style>\n",
              "<table border=\"1\" class=\"dataframe\">\n",
              "  <thead>\n",
              "    <tr style=\"text-align: right;\">\n",
              "      <th></th>\n",
              "      <th>video</th>\n",
              "      <th>caption</th>\n",
              "      <th>short-term_memorability</th>\n",
              "      <th>nb_short-term_annotations</th>\n",
              "      <th>long-term_memorability</th>\n",
              "      <th>nb_long-term_annotations</th>\n",
              "    </tr>\n",
              "  </thead>\n",
              "  <tbody>\n",
              "    <tr>\n",
              "      <th>0</th>\n",
              "      <td>video3.webm</td>\n",
              "      <td>blonde-woman-is-massaged-tilt-down</td>\n",
              "      <td>0.924</td>\n",
              "      <td>34</td>\n",
              "      <td>0.846</td>\n",
              "      <td>13</td>\n",
              "    </tr>\n",
              "    <tr>\n",
              "      <th>1</th>\n",
              "      <td>video4.webm</td>\n",
              "      <td>roulette-table-spinning-with-ball-in-closeup-shot</td>\n",
              "      <td>0.923</td>\n",
              "      <td>33</td>\n",
              "      <td>0.667</td>\n",
              "      <td>12</td>\n",
              "    </tr>\n",
              "    <tr>\n",
              "      <th>2</th>\n",
              "      <td>video6.webm</td>\n",
              "      <td>khr-gangsters</td>\n",
              "      <td>0.863</td>\n",
              "      <td>33</td>\n",
              "      <td>0.700</td>\n",
              "      <td>10</td>\n",
              "    </tr>\n",
              "    <tr>\n",
              "      <th>3</th>\n",
              "      <td>video8.webm</td>\n",
              "      <td>medical-helicopter-hovers-at-airport</td>\n",
              "      <td>0.922</td>\n",
              "      <td>33</td>\n",
              "      <td>0.818</td>\n",
              "      <td>11</td>\n",
              "    </tr>\n",
              "    <tr>\n",
              "      <th>4</th>\n",
              "      <td>video10.webm</td>\n",
              "      <td>couple-relaxing-on-picnic-crane-shot</td>\n",
              "      <td>0.950</td>\n",
              "      <td>34</td>\n",
              "      <td>0.900</td>\n",
              "      <td>10</td>\n",
              "    </tr>\n",
              "    <tr>\n",
              "      <th>5</th>\n",
              "      <td>video12.webm</td>\n",
              "      <td>passing-by-older-man-reading</td>\n",
              "      <td>0.783</td>\n",
              "      <td>74</td>\n",
              "      <td>0.750</td>\n",
              "      <td>12</td>\n",
              "    </tr>\n",
              "    <tr>\n",
              "      <th>6</th>\n",
              "      <td>video13.webm</td>\n",
              "      <td>christmas-village-and-national-christmas-tree</td>\n",
              "      <td>0.861</td>\n",
              "      <td>40</td>\n",
              "      <td>0.700</td>\n",
              "      <td>10</td>\n",
              "    </tr>\n",
              "    <tr>\n",
              "      <th>7</th>\n",
              "      <td>video16.webm</td>\n",
              "      <td>unhappy-friends-looking-for-something-interest...</td>\n",
              "      <td>0.834</td>\n",
              "      <td>33</td>\n",
              "      <td>0.857</td>\n",
              "      <td>14</td>\n",
              "    </tr>\n",
              "    <tr>\n",
              "      <th>8</th>\n",
              "      <td>video17.webm</td>\n",
              "      <td>hoover-dam-tourists-traffic</td>\n",
              "      <td>0.777</td>\n",
              "      <td>43</td>\n",
              "      <td>1.000</td>\n",
              "      <td>11</td>\n",
              "    </tr>\n",
              "    <tr>\n",
              "      <th>9</th>\n",
              "      <td>video18.webm</td>\n",
              "      <td>happy-girl-stretching-and-relaxing-on-the-station</td>\n",
              "      <td>0.863</td>\n",
              "      <td>33</td>\n",
              "      <td>1.000</td>\n",
              "      <td>9</td>\n",
              "    </tr>\n",
              "    <tr>\n",
              "      <th>10</th>\n",
              "      <td>video19.webm</td>\n",
              "      <td>bread-on-the-conveyor</td>\n",
              "      <td>0.980</td>\n",
              "      <td>55</td>\n",
              "      <td>0.917</td>\n",
              "      <td>12</td>\n",
              "    </tr>\n",
              "    <tr>\n",
              "      <th>11</th>\n",
              "      <td>video20.webm</td>\n",
              "      <td>close-up-on-racks-of-computer-equipment-with-f...</td>\n",
              "      <td>0.955</td>\n",
              "      <td>40</td>\n",
              "      <td>0.636</td>\n",
              "      <td>11</td>\n",
              "    </tr>\n",
              "    <tr>\n",
              "      <th>12</th>\n",
              "      <td>video21.webm</td>\n",
              "      <td>modern-family-overdue-burn-wife</td>\n",
              "      <td>0.830</td>\n",
              "      <td>32</td>\n",
              "      <td>0.769</td>\n",
              "      <td>13</td>\n",
              "    </tr>\n",
              "    <tr>\n",
              "      <th>13</th>\n",
              "      <td>video22.webm</td>\n",
              "      <td>woman-tweeting-on-the-phone-in-the-street-rest...</td>\n",
              "      <td>0.859</td>\n",
              "      <td>32</td>\n",
              "      <td>0.800</td>\n",
              "      <td>10</td>\n",
              "    </tr>\n",
              "    <tr>\n",
              "      <th>14</th>\n",
              "      <td>video23.webm</td>\n",
              "      <td>videoblocks-a-woman-who-is-model-released-poin...</td>\n",
              "      <td>0.923</td>\n",
              "      <td>67</td>\n",
              "      <td>0.826</td>\n",
              "      <td>23</td>\n",
              "    </tr>\n",
              "    <tr>\n",
              "      <th>15</th>\n",
              "      <td>video25.webm</td>\n",
              "      <td>bird-on-barren-twig-with-ruins-in-background</td>\n",
              "      <td>0.660</td>\n",
              "      <td>58</td>\n",
              "      <td>0.400</td>\n",
              "      <td>10</td>\n",
              "    </tr>\n",
              "    <tr>\n",
              "      <th>16</th>\n",
              "      <td>video26.webm</td>\n",
              "      <td>two-walking-businessman</td>\n",
              "      <td>0.863</td>\n",
              "      <td>42</td>\n",
              "      <td>0.636</td>\n",
              "      <td>11</td>\n",
              "    </tr>\n",
              "    <tr>\n",
              "      <th>17</th>\n",
              "      <td>video27.webm</td>\n",
              "      <td>timelapse-of-snow-mountains</td>\n",
              "      <td>0.388</td>\n",
              "      <td>33</td>\n",
              "      <td>0.647</td>\n",
              "      <td>17</td>\n",
              "    </tr>\n",
              "    <tr>\n",
              "      <th>18</th>\n",
              "      <td>video28.webm</td>\n",
              "      <td>african-hartebeest-coming-out-of-water</td>\n",
              "      <td>0.788</td>\n",
              "      <td>40</td>\n",
              "      <td>0.800</td>\n",
              "      <td>10</td>\n",
              "    </tr>\n",
              "    <tr>\n",
              "      <th>19</th>\n",
              "      <td>video29.webm</td>\n",
              "      <td>potter-works-crockery-creation-process-in-pott...</td>\n",
              "      <td>0.920</td>\n",
              "      <td>32</td>\n",
              "      <td>0.933</td>\n",
              "      <td>15</td>\n",
              "    </tr>\n",
              "    <tr>\n",
              "      <th>20</th>\n",
              "      <td>video30.webm</td>\n",
              "      <td>couple-relaxing-in-their-new-flat</td>\n",
              "      <td>0.954</td>\n",
              "      <td>33</td>\n",
              "      <td>0.727</td>\n",
              "      <td>11</td>\n",
              "    </tr>\n",
              "    <tr>\n",
              "      <th>21</th>\n",
              "      <td>video31.webm</td>\n",
              "      <td>happy-couple-relaxing-under-the-tree-shadow</td>\n",
              "      <td>0.923</td>\n",
              "      <td>32</td>\n",
              "      <td>0.938</td>\n",
              "      <td>16</td>\n",
              "    </tr>\n",
              "    <tr>\n",
              "      <th>22</th>\n",
              "      <td>video32.webm</td>\n",
              "      <td>grandmother-walks-with-her-grandson-in-a-baby-...</td>\n",
              "      <td>0.772</td>\n",
              "      <td>33</td>\n",
              "      <td>0.636</td>\n",
              "      <td>11</td>\n",
              "    </tr>\n",
              "    <tr>\n",
              "      <th>23</th>\n",
              "      <td>video33.webm</td>\n",
              "      <td>business-report-at-the-meeting</td>\n",
              "      <td>0.814</td>\n",
              "      <td>35</td>\n",
              "      <td>0.909</td>\n",
              "      <td>11</td>\n",
              "    </tr>\n",
              "    <tr>\n",
              "      <th>24</th>\n",
              "      <td>video34.webm</td>\n",
              "      <td>female-friends-drinking-coffee-and-chatting-on...</td>\n",
              "      <td>0.862</td>\n",
              "      <td>32</td>\n",
              "      <td>0.778</td>\n",
              "      <td>9</td>\n",
              "    </tr>\n",
              "    <tr>\n",
              "      <th>25</th>\n",
              "      <td>video35.webm</td>\n",
              "      <td>petco-park-baseball-stadium</td>\n",
              "      <td>0.861</td>\n",
              "      <td>32</td>\n",
              "      <td>0.727</td>\n",
              "      <td>11</td>\n",
              "    </tr>\n",
              "    <tr>\n",
              "      <th>26</th>\n",
              "      <td>video36.webm</td>\n",
              "      <td>airport-terminal</td>\n",
              "      <td>0.822</td>\n",
              "      <td>31</td>\n",
              "      <td>0.818</td>\n",
              "      <td>11</td>\n",
              "    </tr>\n",
              "    <tr>\n",
              "      <th>27</th>\n",
              "      <td>video37.webm</td>\n",
              "      <td>group-of-kids-playing-soccer-in-africa</td>\n",
              "      <td>0.835</td>\n",
              "      <td>33</td>\n",
              "      <td>0.833</td>\n",
              "      <td>12</td>\n",
              "    </tr>\n",
              "    <tr>\n",
              "      <th>28</th>\n",
              "      <td>video38.webm</td>\n",
              "      <td>family-of-three-playing-on-pad</td>\n",
              "      <td>0.840</td>\n",
              "      <td>34</td>\n",
              "      <td>0.692</td>\n",
              "      <td>13</td>\n",
              "    </tr>\n",
              "    <tr>\n",
              "      <th>29</th>\n",
              "      <td>video39.webm</td>\n",
              "      <td>hare-bounding-through-snow</td>\n",
              "      <td>0.900</td>\n",
              "      <td>36</td>\n",
              "      <td>0.700</td>\n",
              "      <td>10</td>\n",
              "    </tr>\n",
              "    <tr>\n",
              "      <th>...</th>\n",
              "      <td>...</td>\n",
              "      <td>...</td>\n",
              "      <td>...</td>\n",
              "      <td>...</td>\n",
              "      <td>...</td>\n",
              "      <td>...</td>\n",
              "    </tr>\n",
              "    <tr>\n",
              "      <th>5970</th>\n",
              "      <td>video7454.webm</td>\n",
              "      <td>laser-cutting-machine-at-work-dolly-shot</td>\n",
              "      <td>0.799</td>\n",
              "      <td>32</td>\n",
              "      <td>0.900</td>\n",
              "      <td>10</td>\n",
              "    </tr>\n",
              "    <tr>\n",
              "      <th>5971</th>\n",
              "      <td>video7456.webm</td>\n",
              "      <td>rnyk-boston--ac</td>\n",
              "      <td>0.840</td>\n",
              "      <td>34</td>\n",
              "      <td>0.692</td>\n",
              "      <td>13</td>\n",
              "    </tr>\n",
              "    <tr>\n",
              "      <th>5972</th>\n",
              "      <td>video7457.webm</td>\n",
              "      <td>of-people-pets-dog-sitter-with-alsatian-dogs-i...</td>\n",
              "      <td>0.983</td>\n",
              "      <td>34</td>\n",
              "      <td>0.846</td>\n",
              "      <td>13</td>\n",
              "    </tr>\n",
              "    <tr>\n",
              "      <th>5973</th>\n",
              "      <td>video7458.webm</td>\n",
              "      <td>boy-kicking-soccer-ball-in-arched-alley-at-night</td>\n",
              "      <td>0.836</td>\n",
              "      <td>34</td>\n",
              "      <td>0.909</td>\n",
              "      <td>11</td>\n",
              "    </tr>\n",
              "    <tr>\n",
              "      <th>5974</th>\n",
              "      <td>video7461.webm</td>\n",
              "      <td>boy-taking-a-cookie-from-the-plate</td>\n",
              "      <td>0.863</td>\n",
              "      <td>33</td>\n",
              "      <td>0.917</td>\n",
              "      <td>12</td>\n",
              "    </tr>\n",
              "    <tr>\n",
              "      <th>5975</th>\n",
              "      <td>video7462.webm</td>\n",
              "      <td>slow-motion-male-tennis-serve</td>\n",
              "      <td>0.748</td>\n",
              "      <td>34</td>\n",
              "      <td>0.533</td>\n",
              "      <td>15</td>\n",
              "    </tr>\n",
              "    <tr>\n",
              "      <th>5976</th>\n",
              "      <td>video7463.webm</td>\n",
              "      <td>woman-drinking-water-from-a-bottle-next-to-the...</td>\n",
              "      <td>0.952</td>\n",
              "      <td>33</td>\n",
              "      <td>0.700</td>\n",
              "      <td>10</td>\n",
              "    </tr>\n",
              "    <tr>\n",
              "      <th>5977</th>\n",
              "      <td>video7465.webm</td>\n",
              "      <td>close-up-of-womans-back-being-massaged</td>\n",
              "      <td>0.980</td>\n",
              "      <td>32</td>\n",
              "      <td>0.786</td>\n",
              "      <td>14</td>\n",
              "    </tr>\n",
              "    <tr>\n",
              "      <th>5978</th>\n",
              "      <td>video7466.webm</td>\n",
              "      <td>young-people-on-the-beach</td>\n",
              "      <td>0.894</td>\n",
              "      <td>34</td>\n",
              "      <td>0.909</td>\n",
              "      <td>22</td>\n",
              "    </tr>\n",
              "    <tr>\n",
              "      <th>5979</th>\n",
              "      <td>video7468.webm</td>\n",
              "      <td>dealer-shuffling-and-fanning-cards</td>\n",
              "      <td>0.719</td>\n",
              "      <td>34</td>\n",
              "      <td>0.923</td>\n",
              "      <td>13</td>\n",
              "    </tr>\n",
              "    <tr>\n",
              "      <th>5980</th>\n",
              "      <td>video7469.webm</td>\n",
              "      <td>woman-texting-while-working-from-home</td>\n",
              "      <td>0.807</td>\n",
              "      <td>34</td>\n",
              "      <td>0.941</td>\n",
              "      <td>17</td>\n",
              "    </tr>\n",
              "    <tr>\n",
              "      <th>5981</th>\n",
              "      <td>video7470.webm</td>\n",
              "      <td>mountain-biking-man-pedal-down-trail-lift-above</td>\n",
              "      <td>0.865</td>\n",
              "      <td>34</td>\n",
              "      <td>0.765</td>\n",
              "      <td>17</td>\n",
              "    </tr>\n",
              "    <tr>\n",
              "      <th>5982</th>\n",
              "      <td>video7471.webm</td>\n",
              "      <td>woman-standing-in-kitchen-and-eating-cornflakes</td>\n",
              "      <td>0.864</td>\n",
              "      <td>33</td>\n",
              "      <td>0.846</td>\n",
              "      <td>13</td>\n",
              "    </tr>\n",
              "    <tr>\n",
              "      <th>5983</th>\n",
              "      <td>video7472.webm</td>\n",
              "      <td>african-american-man-shacking-hands-with-partn...</td>\n",
              "      <td>0.922</td>\n",
              "      <td>33</td>\n",
              "      <td>0.727</td>\n",
              "      <td>11</td>\n",
              "    </tr>\n",
              "    <tr>\n",
              "      <th>5984</th>\n",
              "      <td>video7473.webm</td>\n",
              "      <td>business-man-and-woman-fighting-over-documents</td>\n",
              "      <td>0.828</td>\n",
              "      <td>32</td>\n",
              "      <td>0.800</td>\n",
              "      <td>15</td>\n",
              "    </tr>\n",
              "    <tr>\n",
              "      <th>5985</th>\n",
              "      <td>video7474.webm</td>\n",
              "      <td>young-couple-sitting-in-cafe-or-restaurant-the...</td>\n",
              "      <td>0.842</td>\n",
              "      <td>35</td>\n",
              "      <td>0.800</td>\n",
              "      <td>10</td>\n",
              "    </tr>\n",
              "    <tr>\n",
              "      <th>5986</th>\n",
              "      <td>video7475.webm</td>\n",
              "      <td>tracking-longof-a-young-boy-flying-a-kite-in-t...</td>\n",
              "      <td>0.741</td>\n",
              "      <td>33</td>\n",
              "      <td>0.850</td>\n",
              "      <td>20</td>\n",
              "    </tr>\n",
              "    <tr>\n",
              "      <th>5987</th>\n",
              "      <td>video7477.webm</td>\n",
              "      <td>young-family-splashing-in-the-sea-with-their-s...</td>\n",
              "      <td>0.927</td>\n",
              "      <td>34</td>\n",
              "      <td>0.897</td>\n",
              "      <td>29</td>\n",
              "    </tr>\n",
              "    <tr>\n",
              "      <th>5988</th>\n",
              "      <td>video7478.webm</td>\n",
              "      <td>handheldshowing-a-business-environment-and-two...</td>\n",
              "      <td>0.892</td>\n",
              "      <td>33</td>\n",
              "      <td>0.833</td>\n",
              "      <td>12</td>\n",
              "    </tr>\n",
              "    <tr>\n",
              "      <th>5989</th>\n",
              "      <td>video7479.webm</td>\n",
              "      <td>super-slow-motion-bald-eagle-flying</td>\n",
              "      <td>0.839</td>\n",
              "      <td>34</td>\n",
              "      <td>0.800</td>\n",
              "      <td>10</td>\n",
              "    </tr>\n",
              "    <tr>\n",
              "      <th>5990</th>\n",
              "      <td>video7480.webm</td>\n",
              "      <td>meerkat-playing-in-dirt</td>\n",
              "      <td>0.889</td>\n",
              "      <td>32</td>\n",
              "      <td>0.833</td>\n",
              "      <td>12</td>\n",
              "    </tr>\n",
              "    <tr>\n",
              "      <th>5991</th>\n",
              "      <td>video7481.webm</td>\n",
              "      <td>cotton-zoom-out</td>\n",
              "      <td>0.923</td>\n",
              "      <td>32</td>\n",
              "      <td>0.846</td>\n",
              "      <td>13</td>\n",
              "    </tr>\n",
              "    <tr>\n",
              "      <th>5992</th>\n",
              "      <td>video7483.webm</td>\n",
              "      <td>white-and-gray-cat-playing-with-string-toy</td>\n",
              "      <td>0.812</td>\n",
              "      <td>40</td>\n",
              "      <td>0.800</td>\n",
              "      <td>10</td>\n",
              "    </tr>\n",
              "    <tr>\n",
              "      <th>5993</th>\n",
              "      <td>video7485.webm</td>\n",
              "      <td>civil-war-unknown-grave-closeup</td>\n",
              "      <td>0.922</td>\n",
              "      <td>33</td>\n",
              "      <td>0.833</td>\n",
              "      <td>12</td>\n",
              "    </tr>\n",
              "    <tr>\n",
              "      <th>5994</th>\n",
              "      <td>video7486.webm</td>\n",
              "      <td>frantic-dog-on-leash</td>\n",
              "      <td>0.800</td>\n",
              "      <td>32</td>\n",
              "      <td>0.636</td>\n",
              "      <td>11</td>\n",
              "    </tr>\n",
              "    <tr>\n",
              "      <th>5995</th>\n",
              "      <td>video7488.webm</td>\n",
              "      <td>beautiful-young-woman-in-front-of-fountains</td>\n",
              "      <td>0.921</td>\n",
              "      <td>33</td>\n",
              "      <td>1.000</td>\n",
              "      <td>9</td>\n",
              "    </tr>\n",
              "    <tr>\n",
              "      <th>5996</th>\n",
              "      <td>video7489.webm</td>\n",
              "      <td>focus-pull-from-molting-penguin-to-penguin-col...</td>\n",
              "      <td>0.909</td>\n",
              "      <td>53</td>\n",
              "      <td>0.839</td>\n",
              "      <td>31</td>\n",
              "    </tr>\n",
              "    <tr>\n",
              "      <th>5997</th>\n",
              "      <td>video7491.webm</td>\n",
              "      <td>students-walking-in-university-of-mexico</td>\n",
              "      <td>0.713</td>\n",
              "      <td>33</td>\n",
              "      <td>0.818</td>\n",
              "      <td>11</td>\n",
              "    </tr>\n",
              "    <tr>\n",
              "      <th>5998</th>\n",
              "      <td>video7492.webm</td>\n",
              "      <td>beautiful-black-woman-at-spa</td>\n",
              "      <td>0.954</td>\n",
              "      <td>34</td>\n",
              "      <td>1.000</td>\n",
              "      <td>16</td>\n",
              "    </tr>\n",
              "    <tr>\n",
              "      <th>5999</th>\n",
              "      <td>video7493.webm</td>\n",
              "      <td>beautiful-modern-brunette-woman-using-tablet-c...</td>\n",
              "      <td>0.953</td>\n",
              "      <td>33</td>\n",
              "      <td>0.615</td>\n",
              "      <td>13</td>\n",
              "    </tr>\n",
              "  </tbody>\n",
              "</table>\n",
              "<p>6000 rows × 6 columns</p>\n",
              "</div>"
            ],
            "text/plain": [
              "               video                                            caption  \\\n",
              "0        video3.webm                 blonde-woman-is-massaged-tilt-down   \n",
              "1        video4.webm  roulette-table-spinning-with-ball-in-closeup-shot   \n",
              "2        video6.webm                                      khr-gangsters   \n",
              "3        video8.webm               medical-helicopter-hovers-at-airport   \n",
              "4       video10.webm               couple-relaxing-on-picnic-crane-shot   \n",
              "5       video12.webm                       passing-by-older-man-reading   \n",
              "6       video13.webm      christmas-village-and-national-christmas-tree   \n",
              "7       video16.webm  unhappy-friends-looking-for-something-interest...   \n",
              "8       video17.webm                        hoover-dam-tourists-traffic   \n",
              "9       video18.webm  happy-girl-stretching-and-relaxing-on-the-station   \n",
              "10      video19.webm                              bread-on-the-conveyor   \n",
              "11      video20.webm  close-up-on-racks-of-computer-equipment-with-f...   \n",
              "12      video21.webm                    modern-family-overdue-burn-wife   \n",
              "13      video22.webm  woman-tweeting-on-the-phone-in-the-street-rest...   \n",
              "14      video23.webm  videoblocks-a-woman-who-is-model-released-poin...   \n",
              "15      video25.webm       bird-on-barren-twig-with-ruins-in-background   \n",
              "16      video26.webm                            two-walking-businessman   \n",
              "17      video27.webm                        timelapse-of-snow-mountains   \n",
              "18      video28.webm             african-hartebeest-coming-out-of-water   \n",
              "19      video29.webm  potter-works-crockery-creation-process-in-pott...   \n",
              "20      video30.webm                  couple-relaxing-in-their-new-flat   \n",
              "21      video31.webm        happy-couple-relaxing-under-the-tree-shadow   \n",
              "22      video32.webm  grandmother-walks-with-her-grandson-in-a-baby-...   \n",
              "23      video33.webm                     business-report-at-the-meeting   \n",
              "24      video34.webm  female-friends-drinking-coffee-and-chatting-on...   \n",
              "25      video35.webm                        petco-park-baseball-stadium   \n",
              "26      video36.webm                                   airport-terminal   \n",
              "27      video37.webm             group-of-kids-playing-soccer-in-africa   \n",
              "28      video38.webm                     family-of-three-playing-on-pad   \n",
              "29      video39.webm                         hare-bounding-through-snow   \n",
              "...              ...                                                ...   \n",
              "5970  video7454.webm           laser-cutting-machine-at-work-dolly-shot   \n",
              "5971  video7456.webm                                    rnyk-boston--ac   \n",
              "5972  video7457.webm  of-people-pets-dog-sitter-with-alsatian-dogs-i...   \n",
              "5973  video7458.webm   boy-kicking-soccer-ball-in-arched-alley-at-night   \n",
              "5974  video7461.webm                 boy-taking-a-cookie-from-the-plate   \n",
              "5975  video7462.webm                      slow-motion-male-tennis-serve   \n",
              "5976  video7463.webm  woman-drinking-water-from-a-bottle-next-to-the...   \n",
              "5977  video7465.webm             close-up-of-womans-back-being-massaged   \n",
              "5978  video7466.webm                          young-people-on-the-beach   \n",
              "5979  video7468.webm                 dealer-shuffling-and-fanning-cards   \n",
              "5980  video7469.webm              woman-texting-while-working-from-home   \n",
              "5981  video7470.webm    mountain-biking-man-pedal-down-trail-lift-above   \n",
              "5982  video7471.webm    woman-standing-in-kitchen-and-eating-cornflakes   \n",
              "5983  video7472.webm  african-american-man-shacking-hands-with-partn...   \n",
              "5984  video7473.webm     business-man-and-woman-fighting-over-documents   \n",
              "5985  video7474.webm  young-couple-sitting-in-cafe-or-restaurant-the...   \n",
              "5986  video7475.webm  tracking-longof-a-young-boy-flying-a-kite-in-t...   \n",
              "5987  video7477.webm  young-family-splashing-in-the-sea-with-their-s...   \n",
              "5988  video7478.webm  handheldshowing-a-business-environment-and-two...   \n",
              "5989  video7479.webm                super-slow-motion-bald-eagle-flying   \n",
              "5990  video7480.webm                            meerkat-playing-in-dirt   \n",
              "5991  video7481.webm                                    cotton-zoom-out   \n",
              "5992  video7483.webm         white-and-gray-cat-playing-with-string-toy   \n",
              "5993  video7485.webm                    civil-war-unknown-grave-closeup   \n",
              "5994  video7486.webm                               frantic-dog-on-leash   \n",
              "5995  video7488.webm        beautiful-young-woman-in-front-of-fountains   \n",
              "5996  video7489.webm  focus-pull-from-molting-penguin-to-penguin-col...   \n",
              "5997  video7491.webm           students-walking-in-university-of-mexico   \n",
              "5998  video7492.webm                       beautiful-black-woman-at-spa   \n",
              "5999  video7493.webm  beautiful-modern-brunette-woman-using-tablet-c...   \n",
              "\n",
              "      short-term_memorability  nb_short-term_annotations  \\\n",
              "0                       0.924                         34   \n",
              "1                       0.923                         33   \n",
              "2                       0.863                         33   \n",
              "3                       0.922                         33   \n",
              "4                       0.950                         34   \n",
              "5                       0.783                         74   \n",
              "6                       0.861                         40   \n",
              "7                       0.834                         33   \n",
              "8                       0.777                         43   \n",
              "9                       0.863                         33   \n",
              "10                      0.980                         55   \n",
              "11                      0.955                         40   \n",
              "12                      0.830                         32   \n",
              "13                      0.859                         32   \n",
              "14                      0.923                         67   \n",
              "15                      0.660                         58   \n",
              "16                      0.863                         42   \n",
              "17                      0.388                         33   \n",
              "18                      0.788                         40   \n",
              "19                      0.920                         32   \n",
              "20                      0.954                         33   \n",
              "21                      0.923                         32   \n",
              "22                      0.772                         33   \n",
              "23                      0.814                         35   \n",
              "24                      0.862                         32   \n",
              "25                      0.861                         32   \n",
              "26                      0.822                         31   \n",
              "27                      0.835                         33   \n",
              "28                      0.840                         34   \n",
              "29                      0.900                         36   \n",
              "...                       ...                        ...   \n",
              "5970                    0.799                         32   \n",
              "5971                    0.840                         34   \n",
              "5972                    0.983                         34   \n",
              "5973                    0.836                         34   \n",
              "5974                    0.863                         33   \n",
              "5975                    0.748                         34   \n",
              "5976                    0.952                         33   \n",
              "5977                    0.980                         32   \n",
              "5978                    0.894                         34   \n",
              "5979                    0.719                         34   \n",
              "5980                    0.807                         34   \n",
              "5981                    0.865                         34   \n",
              "5982                    0.864                         33   \n",
              "5983                    0.922                         33   \n",
              "5984                    0.828                         32   \n",
              "5985                    0.842                         35   \n",
              "5986                    0.741                         33   \n",
              "5987                    0.927                         34   \n",
              "5988                    0.892                         33   \n",
              "5989                    0.839                         34   \n",
              "5990                    0.889                         32   \n",
              "5991                    0.923                         32   \n",
              "5992                    0.812                         40   \n",
              "5993                    0.922                         33   \n",
              "5994                    0.800                         32   \n",
              "5995                    0.921                         33   \n",
              "5996                    0.909                         53   \n",
              "5997                    0.713                         33   \n",
              "5998                    0.954                         34   \n",
              "5999                    0.953                         33   \n",
              "\n",
              "      long-term_memorability  nb_long-term_annotations  \n",
              "0                      0.846                        13  \n",
              "1                      0.667                        12  \n",
              "2                      0.700                        10  \n",
              "3                      0.818                        11  \n",
              "4                      0.900                        10  \n",
              "5                      0.750                        12  \n",
              "6                      0.700                        10  \n",
              "7                      0.857                        14  \n",
              "8                      1.000                        11  \n",
              "9                      1.000                         9  \n",
              "10                     0.917                        12  \n",
              "11                     0.636                        11  \n",
              "12                     0.769                        13  \n",
              "13                     0.800                        10  \n",
              "14                     0.826                        23  \n",
              "15                     0.400                        10  \n",
              "16                     0.636                        11  \n",
              "17                     0.647                        17  \n",
              "18                     0.800                        10  \n",
              "19                     0.933                        15  \n",
              "20                     0.727                        11  \n",
              "21                     0.938                        16  \n",
              "22                     0.636                        11  \n",
              "23                     0.909                        11  \n",
              "24                     0.778                         9  \n",
              "25                     0.727                        11  \n",
              "26                     0.818                        11  \n",
              "27                     0.833                        12  \n",
              "28                     0.692                        13  \n",
              "29                     0.700                        10  \n",
              "...                      ...                       ...  \n",
              "5970                   0.900                        10  \n",
              "5971                   0.692                        13  \n",
              "5972                   0.846                        13  \n",
              "5973                   0.909                        11  \n",
              "5974                   0.917                        12  \n",
              "5975                   0.533                        15  \n",
              "5976                   0.700                        10  \n",
              "5977                   0.786                        14  \n",
              "5978                   0.909                        22  \n",
              "5979                   0.923                        13  \n",
              "5980                   0.941                        17  \n",
              "5981                   0.765                        17  \n",
              "5982                   0.846                        13  \n",
              "5983                   0.727                        11  \n",
              "5984                   0.800                        15  \n",
              "5985                   0.800                        10  \n",
              "5986                   0.850                        20  \n",
              "5987                   0.897                        29  \n",
              "5988                   0.833                        12  \n",
              "5989                   0.800                        10  \n",
              "5990                   0.833                        12  \n",
              "5991                   0.846                        13  \n",
              "5992                   0.800                        10  \n",
              "5993                   0.833                        12  \n",
              "5994                   0.636                        11  \n",
              "5995                   1.000                         9  \n",
              "5996                   0.839                        31  \n",
              "5997                   0.818                        11  \n",
              "5998                   1.000                        16  \n",
              "5999                   0.615                        13  \n",
              "\n",
              "[6000 rows x 6 columns]"
            ]
          },
          "metadata": {
            "tags": []
          },
          "execution_count": 6
        }
      ]
    },
    {
      "metadata": {
        "colab_type": "text",
        "id": "JXfmyFi47_PI"
      },
      "cell_type": "markdown",
      "source": [
        "\n",
        "\n",
        "# Preprocessing Data"
      ]
    },
    {
      "metadata": {
        "id": "j96v5Yp-JluU",
        "colab_type": "text"
      },
      "cell_type": "markdown",
      "source": [
        "## Remove punctuation"
      ]
    },
    {
      "metadata": {
        "id": "HHACcn6uGoID",
        "colab_type": "code",
        "outputId": "50c9225e-fe17-4987-f91e-1f7417b027d1",
        "colab": {
          "base_uri": "https://localhost:8080/",
          "height": 35
        }
      },
      "cell_type": "code",
      "source": [
        "import string\n",
        "string.punctuation"
      ],
      "execution_count": 7,
      "outputs": [
        {
          "output_type": "execute_result",
          "data": {
            "text/plain": [
              "'!\"#$%&\\'()*+,-./:;<=>?@[\\\\]^_`{|}~'"
            ]
          },
          "metadata": {
            "tags": []
          },
          "execution_count": 7
        }
      ]
    },
    {
      "metadata": {
        "id": "Hs0JkSjeGoT1",
        "colab_type": "code",
        "colab": {}
      },
      "cell_type": "code",
      "source": [
        "#function to remove punctuation\n",
        "def remove_punct(text):\n",
        "  text_nopunct=\"\".join([char for char in text if char not in string.punctuation])  #it will discard all punctuation\n",
        "  return text_nopunct"
      ],
      "execution_count": 0,
      "outputs": []
    },
    {
      "metadata": {
        "id": "6UnYl4PRGoWm",
        "colab_type": "code",
        "outputId": "7cb10e9c-79e7-4422-bd57-f2318f4f05fc",
        "colab": {
          "base_uri": "https://localhost:8080/",
          "height": 287
        }
      },
      "cell_type": "code",
      "source": [
        "df['body_text_clean']=df['caption'].apply(lambda x: remove_punct(x))\n",
        "df.head()"
      ],
      "execution_count": 9,
      "outputs": [
        {
          "output_type": "execute_result",
          "data": {
            "text/html": [
              "<div>\n",
              "<style scoped>\n",
              "    .dataframe tbody tr th:only-of-type {\n",
              "        vertical-align: middle;\n",
              "    }\n",
              "\n",
              "    .dataframe tbody tr th {\n",
              "        vertical-align: top;\n",
              "    }\n",
              "\n",
              "    .dataframe thead th {\n",
              "        text-align: right;\n",
              "    }\n",
              "</style>\n",
              "<table border=\"1\" class=\"dataframe\">\n",
              "  <thead>\n",
              "    <tr style=\"text-align: right;\">\n",
              "      <th></th>\n",
              "      <th>video</th>\n",
              "      <th>caption</th>\n",
              "      <th>short-term_memorability</th>\n",
              "      <th>nb_short-term_annotations</th>\n",
              "      <th>long-term_memorability</th>\n",
              "      <th>nb_long-term_annotations</th>\n",
              "      <th>body_text_clean</th>\n",
              "    </tr>\n",
              "  </thead>\n",
              "  <tbody>\n",
              "    <tr>\n",
              "      <th>0</th>\n",
              "      <td>video3.webm</td>\n",
              "      <td>blonde-woman-is-massaged-tilt-down</td>\n",
              "      <td>0.924</td>\n",
              "      <td>34</td>\n",
              "      <td>0.846</td>\n",
              "      <td>13</td>\n",
              "      <td>blondewomanismassagedtiltdown</td>\n",
              "    </tr>\n",
              "    <tr>\n",
              "      <th>1</th>\n",
              "      <td>video4.webm</td>\n",
              "      <td>roulette-table-spinning-with-ball-in-closeup-shot</td>\n",
              "      <td>0.923</td>\n",
              "      <td>33</td>\n",
              "      <td>0.667</td>\n",
              "      <td>12</td>\n",
              "      <td>roulettetablespinningwithballincloseupshot</td>\n",
              "    </tr>\n",
              "    <tr>\n",
              "      <th>2</th>\n",
              "      <td>video6.webm</td>\n",
              "      <td>khr-gangsters</td>\n",
              "      <td>0.863</td>\n",
              "      <td>33</td>\n",
              "      <td>0.700</td>\n",
              "      <td>10</td>\n",
              "      <td>khrgangsters</td>\n",
              "    </tr>\n",
              "    <tr>\n",
              "      <th>3</th>\n",
              "      <td>video8.webm</td>\n",
              "      <td>medical-helicopter-hovers-at-airport</td>\n",
              "      <td>0.922</td>\n",
              "      <td>33</td>\n",
              "      <td>0.818</td>\n",
              "      <td>11</td>\n",
              "      <td>medicalhelicopterhoversatairport</td>\n",
              "    </tr>\n",
              "    <tr>\n",
              "      <th>4</th>\n",
              "      <td>video10.webm</td>\n",
              "      <td>couple-relaxing-on-picnic-crane-shot</td>\n",
              "      <td>0.950</td>\n",
              "      <td>34</td>\n",
              "      <td>0.900</td>\n",
              "      <td>10</td>\n",
              "      <td>couplerelaxingonpicniccraneshot</td>\n",
              "    </tr>\n",
              "  </tbody>\n",
              "</table>\n",
              "</div>"
            ],
            "text/plain": [
              "          video                                            caption  \\\n",
              "0   video3.webm                 blonde-woman-is-massaged-tilt-down   \n",
              "1   video4.webm  roulette-table-spinning-with-ball-in-closeup-shot   \n",
              "2   video6.webm                                      khr-gangsters   \n",
              "3   video8.webm               medical-helicopter-hovers-at-airport   \n",
              "4  video10.webm               couple-relaxing-on-picnic-crane-shot   \n",
              "\n",
              "   short-term_memorability  nb_short-term_annotations  long-term_memorability  \\\n",
              "0                    0.924                         34                   0.846   \n",
              "1                    0.923                         33                   0.667   \n",
              "2                    0.863                         33                   0.700   \n",
              "3                    0.922                         33                   0.818   \n",
              "4                    0.950                         34                   0.900   \n",
              "\n",
              "   nb_long-term_annotations                             body_text_clean  \n",
              "0                        13               blondewomanismassagedtiltdown  \n",
              "1                        12  roulettetablespinningwithballincloseupshot  \n",
              "2                        10                                khrgangsters  \n",
              "3                        11            medicalhelicopterhoversatairport  \n",
              "4                        10             couplerelaxingonpicniccraneshot  "
            ]
          },
          "metadata": {
            "tags": []
          },
          "execution_count": 9
        }
      ]
    },
    {
      "metadata": {
        "id": "Z9HvrnTgJsk0",
        "colab_type": "text"
      },
      "cell_type": "markdown",
      "source": [
        "##Tokenization"
      ]
    },
    {
      "metadata": {
        "id": "n6sEijjLGoZK",
        "colab_type": "code",
        "outputId": "bb3ca57f-ba78-4f59-9942-58111e1afc5b",
        "colab": {
          "base_uri": "https://localhost:8080/",
          "height": 355
        }
      },
      "cell_type": "code",
      "source": [
        "import re\n",
        "\n",
        "#function to tokenise\n",
        "\n",
        "def tokenize(text):\n",
        "  tokens=re.split('\\W+',text)\n",
        "  return tokens\n",
        "df['tokenized_body']=df['caption'].apply(lambda x: tokenize(x.lower()))\n",
        "df.head()\n"
      ],
      "execution_count": 10,
      "outputs": [
        {
          "output_type": "execute_result",
          "data": {
            "text/html": [
              "<div>\n",
              "<style scoped>\n",
              "    .dataframe tbody tr th:only-of-type {\n",
              "        vertical-align: middle;\n",
              "    }\n",
              "\n",
              "    .dataframe tbody tr th {\n",
              "        vertical-align: top;\n",
              "    }\n",
              "\n",
              "    .dataframe thead th {\n",
              "        text-align: right;\n",
              "    }\n",
              "</style>\n",
              "<table border=\"1\" class=\"dataframe\">\n",
              "  <thead>\n",
              "    <tr style=\"text-align: right;\">\n",
              "      <th></th>\n",
              "      <th>video</th>\n",
              "      <th>caption</th>\n",
              "      <th>short-term_memorability</th>\n",
              "      <th>nb_short-term_annotations</th>\n",
              "      <th>long-term_memorability</th>\n",
              "      <th>nb_long-term_annotations</th>\n",
              "      <th>body_text_clean</th>\n",
              "      <th>tokenized_body</th>\n",
              "    </tr>\n",
              "  </thead>\n",
              "  <tbody>\n",
              "    <tr>\n",
              "      <th>0</th>\n",
              "      <td>video3.webm</td>\n",
              "      <td>blonde-woman-is-massaged-tilt-down</td>\n",
              "      <td>0.924</td>\n",
              "      <td>34</td>\n",
              "      <td>0.846</td>\n",
              "      <td>13</td>\n",
              "      <td>blondewomanismassagedtiltdown</td>\n",
              "      <td>[blonde, woman, is, massaged, tilt, down]</td>\n",
              "    </tr>\n",
              "    <tr>\n",
              "      <th>1</th>\n",
              "      <td>video4.webm</td>\n",
              "      <td>roulette-table-spinning-with-ball-in-closeup-shot</td>\n",
              "      <td>0.923</td>\n",
              "      <td>33</td>\n",
              "      <td>0.667</td>\n",
              "      <td>12</td>\n",
              "      <td>roulettetablespinningwithballincloseupshot</td>\n",
              "      <td>[roulette, table, spinning, with, ball, in, cl...</td>\n",
              "    </tr>\n",
              "    <tr>\n",
              "      <th>2</th>\n",
              "      <td>video6.webm</td>\n",
              "      <td>khr-gangsters</td>\n",
              "      <td>0.863</td>\n",
              "      <td>33</td>\n",
              "      <td>0.700</td>\n",
              "      <td>10</td>\n",
              "      <td>khrgangsters</td>\n",
              "      <td>[khr, gangsters]</td>\n",
              "    </tr>\n",
              "    <tr>\n",
              "      <th>3</th>\n",
              "      <td>video8.webm</td>\n",
              "      <td>medical-helicopter-hovers-at-airport</td>\n",
              "      <td>0.922</td>\n",
              "      <td>33</td>\n",
              "      <td>0.818</td>\n",
              "      <td>11</td>\n",
              "      <td>medicalhelicopterhoversatairport</td>\n",
              "      <td>[medical, helicopter, hovers, at, airport]</td>\n",
              "    </tr>\n",
              "    <tr>\n",
              "      <th>4</th>\n",
              "      <td>video10.webm</td>\n",
              "      <td>couple-relaxing-on-picnic-crane-shot</td>\n",
              "      <td>0.950</td>\n",
              "      <td>34</td>\n",
              "      <td>0.900</td>\n",
              "      <td>10</td>\n",
              "      <td>couplerelaxingonpicniccraneshot</td>\n",
              "      <td>[couple, relaxing, on, picnic, crane, shot]</td>\n",
              "    </tr>\n",
              "  </tbody>\n",
              "</table>\n",
              "</div>"
            ],
            "text/plain": [
              "          video                                            caption  \\\n",
              "0   video3.webm                 blonde-woman-is-massaged-tilt-down   \n",
              "1   video4.webm  roulette-table-spinning-with-ball-in-closeup-shot   \n",
              "2   video6.webm                                      khr-gangsters   \n",
              "3   video8.webm               medical-helicopter-hovers-at-airport   \n",
              "4  video10.webm               couple-relaxing-on-picnic-crane-shot   \n",
              "\n",
              "   short-term_memorability  nb_short-term_annotations  long-term_memorability  \\\n",
              "0                    0.924                         34                   0.846   \n",
              "1                    0.923                         33                   0.667   \n",
              "2                    0.863                         33                   0.700   \n",
              "3                    0.922                         33                   0.818   \n",
              "4                    0.950                         34                   0.900   \n",
              "\n",
              "   nb_long-term_annotations                             body_text_clean  \\\n",
              "0                        13               blondewomanismassagedtiltdown   \n",
              "1                        12  roulettetablespinningwithballincloseupshot   \n",
              "2                        10                                khrgangsters   \n",
              "3                        11            medicalhelicopterhoversatairport   \n",
              "4                        10             couplerelaxingonpicniccraneshot   \n",
              "\n",
              "                                      tokenized_body  \n",
              "0          [blonde, woman, is, massaged, tilt, down]  \n",
              "1  [roulette, table, spinning, with, ball, in, cl...  \n",
              "2                                   [khr, gangsters]  \n",
              "3         [medical, helicopter, hovers, at, airport]  \n",
              "4        [couple, relaxing, on, picnic, crane, shot]  "
            ]
          },
          "metadata": {
            "tags": []
          },
          "execution_count": 10
        }
      ]
    },
    {
      "metadata": {
        "id": "6BGeTFAPK118",
        "colab_type": "text"
      },
      "cell_type": "markdown",
      "source": [
        "#Vectorizing Data: Bag-Of-Words"
      ]
    },
    {
      "metadata": {
        "id": "5SrJ5mK3sY6M",
        "colab_type": "text"
      },
      "cell_type": "markdown",
      "source": [
        "##Approach 1"
      ]
    },
    {
      "metadata": {
        "id": "3Y1rLcZ7Gogi",
        "colab_type": "code",
        "colab": {}
      },
      "cell_type": "code",
      "source": [
        "from sklearn.feature_extraction.text import CountVectorizer\n",
        "count_vect=CountVectorizer(min_df=1, stop_words='english') # used to remove stopwords"
      ],
      "execution_count": 0,
      "outputs": []
    },
    {
      "metadata": {
        "id": "VxrZFPtVXBvS",
        "colab_type": "code",
        "outputId": "3aade5ac-9a5d-473d-ab13-c515bfe4739a",
        "colab": {
          "base_uri": "https://localhost:8080/",
          "height": 35
        }
      },
      "cell_type": "code",
      "source": [
        "X_counts=count_vect.fit_transform(df['caption'])\n",
        "print(X_counts.shape)"
      ],
      "execution_count": 12,
      "outputs": [
        {
          "output_type": "stream",
          "text": [
            "(6000, 5019)\n"
          ],
          "name": "stdout"
        }
      ]
    },
    {
      "metadata": {
        "colab_type": "code",
        "id": "rQC7vKis8WCx",
        "colab": {}
      },
      "cell_type": "code",
      "source": [
        "X_counts=count_vect.fit_transform(df['caption'])"
      ],
      "execution_count": 0,
      "outputs": []
    },
    {
      "metadata": {
        "colab_type": "code",
        "id": "sMHmpmSkchhA",
        "outputId": "e5cc0a3e-2d9f-4442-cf63-7b29432dbf79",
        "colab": {
          "base_uri": "https://localhost:8080/",
          "height": 141
        }
      },
      "cell_type": "code",
      "source": [
        "X_counts_seq=X_counts.toarray()\n",
        "X_counts_seq"
      ],
      "execution_count": 14,
      "outputs": [
        {
          "output_type": "execute_result",
          "data": {
            "text/plain": [
              "array([[0, 0, 0, ..., 0, 0, 0],\n",
              "       [0, 0, 0, ..., 0, 0, 0],\n",
              "       [0, 0, 0, ..., 0, 0, 0],\n",
              "       ...,\n",
              "       [0, 0, 0, ..., 0, 0, 0],\n",
              "       [0, 0, 0, ..., 0, 0, 0],\n",
              "       [0, 0, 0, ..., 0, 0, 0]], dtype=int64)"
            ]
          },
          "metadata": {
            "tags": []
          },
          "execution_count": 14
        }
      ]
    },
    {
      "metadata": {
        "colab_type": "code",
        "id": "x2ZDWq34c7jS",
        "outputId": "a6b5c312-0ea2-407f-d982-9c9135b91e1c",
        "colab": {
          "base_uri": "https://localhost:8080/",
          "height": 35
        }
      },
      "cell_type": "code",
      "source": [
        "print(X_counts_seq[0])"
      ],
      "execution_count": 15,
      "outputs": [
        {
          "output_type": "stream",
          "text": [
            "[0 0 0 ... 0 0 0]\n"
          ],
          "name": "stdout"
        }
      ]
    },
    {
      "metadata": {
        "id": "qNqcfAsNJmCL",
        "colab_type": "text"
      },
      "cell_type": "markdown",
      "source": [
        "####Since we are getting higher Spearman Correlation with CountVectorizer compared to TFIDF, therefore we are going ahead with Approach 1"
      ]
    },
    {
      "metadata": {
        "id": "JPtGBjfasi5j",
        "colab_type": "text"
      },
      "cell_type": "markdown",
      "source": [
        "#Vectorizing Data: TF-IDF"
      ]
    },
    {
      "metadata": {
        "id": "JkbKrNmgAEUU",
        "colab_type": "text"
      },
      "cell_type": "markdown",
      "source": [
        "##Approach 2 : Gives less Spearman's corelation compare to Bag of Words"
      ]
    },
    {
      "metadata": {
        "id": "dOQAy256swNG",
        "colab_type": "code",
        "colab": {}
      },
      "cell_type": "code",
      "source": [
        "#tfidf=TfidfVectorizer(min_df=1, stop_words='english')"
      ],
      "execution_count": 0,
      "outputs": []
    },
    {
      "metadata": {
        "id": "yVl_0Tt3swQX",
        "colab_type": "code",
        "colab": {}
      },
      "cell_type": "code",
      "source": [
        "#X_TFID=tfidf.fit_transform(df['caption'])"
      ],
      "execution_count": 0,
      "outputs": []
    },
    {
      "metadata": {
        "id": "CEXUz5FXswLR",
        "colab_type": "code",
        "colab": {}
      },
      "cell_type": "code",
      "source": [
        "#X_seq=X_TFIDF.toarray()\n",
        "#X_seq"
      ],
      "execution_count": 0,
      "outputs": []
    },
    {
      "metadata": {
        "id": "GMYa2pw4s5Mk",
        "colab_type": "code",
        "colab": {}
      },
      "cell_type": "code",
      "source": [
        "#print(X_seq[0])"
      ],
      "execution_count": 0,
      "outputs": []
    },
    {
      "metadata": {
        "id": "SgQl8WsHBhe8",
        "colab_type": "text"
      },
      "cell_type": "markdown",
      "source": [
        "#### Spearman Correlation  obtained by using Approach 2 was 0.334"
      ]
    },
    {
      "metadata": {
        "id": "Hftwh2E8s7q3",
        "colab_type": "text"
      },
      "cell_type": "markdown",
      "source": [
        "#Model"
      ]
    },
    {
      "metadata": {
        "colab_type": "code",
        "id": "AYznEn6kdC2_",
        "colab": {}
      },
      "cell_type": "code",
      "source": [
        "Y=df[['short-term_memorability','long-term_memorability']].values  #targets\n",
        "X=X_counts_seq #input"
      ],
      "execution_count": 0,
      "outputs": []
    },
    {
      "metadata": {
        "colab_type": "code",
        "id": "BG39zYgUdVd7",
        "colab": {}
      },
      "cell_type": "code",
      "source": [
        "X_train, X_test, Y_train, Y_test = train_test_split(X,Y, test_size=0.2, random_state=42) "
      ],
      "execution_count": 0,
      "outputs": []
    },
    {
      "metadata": {
        "colab_type": "code",
        "id": "50POngq5dWwg",
        "outputId": "d7503f72-f42f-4c0c-ab54-49ab16598748",
        "colab": {
          "base_uri": "https://localhost:8080/",
          "height": 88
        }
      },
      "cell_type": "code",
      "source": [
        "print('X_train', X_train.shape)\n",
        "print('X_test', X_test.shape)\n",
        "print('Y_train', Y_train.shape)\n",
        "print('Y_test', Y_test.shape)"
      ],
      "execution_count": 38,
      "outputs": [
        {
          "output_type": "stream",
          "text": [
            "X_train (4800, 5019)\n",
            "X_test (1200, 5019)\n",
            "Y_train (4800, 2)\n",
            "Y_test (1200, 2)\n"
          ],
          "name": "stdout"
        }
      ]
    },
    {
      "metadata": {
        "colab_type": "code",
        "id": "zx8rcY82dWph",
        "outputId": "eb0e8041-5f6d-47a5-88f0-05cef059ac76",
        "colab": {
          "base_uri": "https://localhost:8080/",
          "height": 35
        }
      },
      "cell_type": "code",
      "source": [
        "n_cols = X_train.shape[1]\n",
        "n_cols"
      ],
      "execution_count": 39,
      "outputs": [
        {
          "output_type": "execute_result",
          "data": {
            "text/plain": [
              "5019"
            ]
          },
          "metadata": {
            "tags": []
          },
          "execution_count": 39
        }
      ]
    },
    {
      "metadata": {
        "colab_type": "code",
        "id": "osycQSLAdlet",
        "colab": {}
      },
      "cell_type": "code",
      "source": [
        "from keras import layers\n",
        "from keras.layers import Dropout\n",
        "# Setting up the model using Sequential model\n",
        "model = Sequential()\n",
        "# Add the first layer\n",
        "model.add(Dense(50, activation='relu', input_shape=(n_cols,)))\n",
        "# Add the second layer\n",
        "model.add(layers.Dropout(0.6)) #Dropout consists in randomly setting a fraction rate of input units to 0 at each update during training; helps prevent overfitting.\n",
        "model.add(Dense(32, activation='relu'))\n",
        "# Add the third layer\n",
        "model.add(Dense(32, activation='relu'))\n",
        "\n",
        "# Add the output layer\n",
        "model.add(Dense(2))"
      ],
      "execution_count": 0,
      "outputs": []
    },
    {
      "metadata": {
        "colab_type": "code",
        "id": "juSNLhFUd0Jh",
        "colab": {}
      },
      "cell_type": "code",
      "source": [
        "# Compiling the model\n",
        "model.compile(optimizer='rmsprop', loss = 'mean_squared_error')"
      ],
      "execution_count": 0,
      "outputs": []
    },
    {
      "metadata": {
        "colab_type": "code",
        "id": "dzt2kfj0d7He",
        "outputId": "e72a9924-a173-48dd-d72b-c680b41a66ae",
        "colab": {
          "base_uri": "https://localhost:8080/",
          "height": 35
        }
      },
      "cell_type": "code",
      "source": [
        "# Verifying that model contains information from compiling\n",
        "print(\"Loss function: \" + model.loss)"
      ],
      "execution_count": 42,
      "outputs": [
        {
          "output_type": "stream",
          "text": [
            "Loss function: mean_squared_error\n"
          ],
          "name": "stdout"
        }
      ]
    },
    {
      "metadata": {
        "colab_type": "code",
        "id": "F-YbflDmd70n",
        "outputId": "f0ae7bd9-39bd-4239-803a-951f24c67197",
        "colab": {
          "base_uri": "https://localhost:8080/",
          "height": 742
        }
      },
      "cell_type": "code",
      "source": [
        "# Fitting the model\n",
        "history = model.fit(X_train,Y_train,epochs=20,validation_data=(X_test,Y_test))"
      ],
      "execution_count": 43,
      "outputs": [
        {
          "output_type": "stream",
          "text": [
            "Train on 4800 samples, validate on 1200 samples\n",
            "Epoch 1/20\n",
            "4800/4800 [==============================] - 1s 294us/step - loss: 0.1059 - val_loss: 0.0143\n",
            "Epoch 2/20\n",
            "4800/4800 [==============================] - 1s 251us/step - loss: 0.0146 - val_loss: 0.0136\n",
            "Epoch 3/20\n",
            "4800/4800 [==============================] - 1s 261us/step - loss: 0.0129 - val_loss: 0.0136\n",
            "Epoch 4/20\n",
            "4800/4800 [==============================] - 1s 263us/step - loss: 0.0122 - val_loss: 0.0132\n",
            "Epoch 5/20\n",
            "4800/4800 [==============================] - 1s 239us/step - loss: 0.0119 - val_loss: 0.0135\n",
            "Epoch 6/20\n",
            "4800/4800 [==============================] - 1s 242us/step - loss: 0.0115 - val_loss: 0.0133\n",
            "Epoch 7/20\n",
            "4800/4800 [==============================] - 1s 241us/step - loss: 0.0110 - val_loss: 0.0139\n",
            "Epoch 8/20\n",
            "4800/4800 [==============================] - 1s 244us/step - loss: 0.0106 - val_loss: 0.0137\n",
            "Epoch 9/20\n",
            "4800/4800 [==============================] - 1s 242us/step - loss: 0.0102 - val_loss: 0.0140\n",
            "Epoch 10/20\n",
            "4800/4800 [==============================] - 1s 238us/step - loss: 0.0099 - val_loss: 0.0138\n",
            "Epoch 11/20\n",
            "4800/4800 [==============================] - 1s 237us/step - loss: 0.0096 - val_loss: 0.0143\n",
            "Epoch 12/20\n",
            "4800/4800 [==============================] - 1s 244us/step - loss: 0.0093 - val_loss: 0.0146\n",
            "Epoch 13/20\n",
            "4800/4800 [==============================] - 1s 239us/step - loss: 0.0091 - val_loss: 0.0140\n",
            "Epoch 14/20\n",
            "4800/4800 [==============================] - 1s 238us/step - loss: 0.0088 - val_loss: 0.0145\n",
            "Epoch 15/20\n",
            "4800/4800 [==============================] - 1s 242us/step - loss: 0.0086 - val_loss: 0.0145\n",
            "Epoch 16/20\n",
            "4800/4800 [==============================] - 1s 241us/step - loss: 0.0084 - val_loss: 0.0145\n",
            "Epoch 17/20\n",
            "4800/4800 [==============================] - 1s 234us/step - loss: 0.0083 - val_loss: 0.0155\n",
            "Epoch 18/20\n",
            "4800/4800 [==============================] - 1s 233us/step - loss: 0.0079 - val_loss: 0.0151\n",
            "Epoch 19/20\n",
            "4800/4800 [==============================] - 1s 236us/step - loss: 0.0080 - val_loss: 0.0157\n",
            "Epoch 20/20\n",
            "4800/4800 [==============================] - 1s 238us/step - loss: 0.0077 - val_loss: 0.0142\n"
          ],
          "name": "stdout"
        }
      ]
    },
    {
      "metadata": {
        "id": "dg-F8KAvJVeQ",
        "colab_type": "text"
      },
      "cell_type": "markdown",
      "source": [
        "###Visualising the validation and training loss"
      ]
    },
    {
      "metadata": {
        "colab_type": "code",
        "id": "lDlRNNwTd_ed",
        "outputId": "5fc57fea-de94-4c82-b60f-28b8c44f688d",
        "colab": {
          "base_uri": "https://localhost:8080/",
          "height": 295
        }
      },
      "cell_type": "code",
      "source": [
        "#Visualising the loss\n",
        "loss = history.history['loss']\n",
        "val_loss = history.history['val_loss']\n",
        "\n",
        "epochs = range(1,len(loss)+1)\n",
        "\n",
        "plt.plot(epochs,loss,'bo',label='Training loss')\n",
        "plt.plot(epochs,val_loss,'b',label='Validation loss')\n",
        "plt.title('Training and validation loss')\n",
        "plt.xlabel('Epochs')\n",
        "plt.ylabel('Loss')\n",
        "plt.legend()\n",
        "plt.show()"
      ],
      "execution_count": 44,
      "outputs": [
        {
          "output_type": "display_data",
          "data": {
            "image/png": "[encoded data removed]",
            "text/plain": [
              "<Figure size 432x288 with 1 Axes>"
            ]
          },
          "metadata": {
            "tags": []
          }
        }
      ]
    },
    {
      "metadata": {
        "colab_type": "code",
        "id": "_DDE-RzOeEBF",
        "outputId": "f950827d-7e86-4637-e73e-b114a8847083",
        "colab": {
          "base_uri": "https://localhost:8080/",
          "height": 176
        }
      },
      "cell_type": "code",
      "source": [
        "predictions = model.predict(X_test)\n",
        "print(predictions)\n",
        "Get_score(predictions, Y_test) # Calculating Spearman scores which is best if the value is above 0.300"
      ],
      "execution_count": 45,
      "outputs": [
        {
          "output_type": "stream",
          "text": [
            "[[0.90141785 0.7640934 ]\n",
            " [0.9274813  0.8700167 ]\n",
            " [0.87864554 0.79655594]\n",
            " ...\n",
            " [0.90906763 0.8621563 ]\n",
            " [0.887656   0.79150265]\n",
            " [0.8871319  0.76261395]]\n",
            "The Spearman's correlation coefficient is: 0.439\n",
            "The Spearman's correlation coefficient is: 0.194\n"
          ],
          "name": "stdout"
        }
      ]
    },
    {
      "metadata": {
        "id": "GGFRZBhw6vcA",
        "colab_type": "code",
        "outputId": "ba1d45de-70c6-41d3-8e5a-9c346715556b",
        "colab": {
          "base_uri": "https://localhost:8080/",
          "height": 141
        }
      },
      "cell_type": "code",
      "source": [
        "predictions"
      ],
      "execution_count": 46,
      "outputs": [
        {
          "output_type": "execute_result",
          "data": {
            "text/plain": [
              "array([[0.90141785, 0.7640934 ],\n",
              "       [0.9274813 , 0.8700167 ],\n",
              "       [0.87864554, 0.79655594],\n",
              "       ...,\n",
              "       [0.90906763, 0.8621563 ],\n",
              "       [0.887656  , 0.79150265],\n",
              "       [0.8871319 , 0.76261395]], dtype=float32)"
            ]
          },
          "metadata": {
            "tags": []
          },
          "execution_count": 46
        }
      ]
    },
    {
      "metadata": {
        "id": "p17RfVb7yVoS",
        "colab_type": "code",
        "colab": {
          "base_uri": "https://localhost:8080/",
          "height": 35
        },
        "outputId": "95778789-038f-4d6a-bf70-94f8b8408109"
      },
      "cell_type": "code",
      "source": [
        "predictions.min(axis=0)"
      ],
      "execution_count": 47,
      "outputs": [
        {
          "output_type": "execute_result",
          "data": {
            "text/plain": [
              "array([0.7190095, 0.5016094], dtype=float32)"
            ]
          },
          "metadata": {
            "tags": []
          },
          "execution_count": 47
        }
      ]
    },
    {
      "metadata": {
        "id": "C6ge7a2WyVmC",
        "colab_type": "code",
        "colab": {
          "base_uri": "https://localhost:8080/",
          "height": 35
        },
        "outputId": "34bcf658-b65a-42d4-8550-9e6af23a3f93"
      },
      "cell_type": "code",
      "source": [
        "predictions.max(axis=0)"
      ],
      "execution_count": 48,
      "outputs": [
        {
          "output_type": "execute_result",
          "data": {
            "text/plain": [
              "array([0.98198855, 0.9764454 ], dtype=float32)"
            ]
          },
          "metadata": {
            "tags": []
          },
          "execution_count": 48
        }
      ]
    },
    {
      "metadata": {
        "id": "iKHYH5Y6yVjp",
        "colab_type": "code",
        "colab": {
          "base_uri": "https://localhost:8080/",
          "height": 283
        },
        "outputId": "d86c8ee3-fc0e-4019-f205-765be39b1a8e"
      },
      "cell_type": "code",
      "source": [
        "plt.figure()\n",
        "plt.scatter(predictions[:,0],predictions[:,1],marker='o',c='r')\n",
        "plt.xlabel('short-term')\n",
        "plt.ylabel('long-term')\n",
        "plt.savefig('Prediction_captions.eps')"
      ],
      "execution_count": 49,
      "outputs": [
        {
          "output_type": "display_data",
          "data": {
            "image/png": "[encoded data removed]",
            "text/plain": [
              "<Figure size 432x288 with 1 Axes>"
            ]
          },
          "metadata": {
            "tags": []
          }
        }
      ]
    },
    {
      "metadata": {
        "id": "huzuPE_xF4Rl",
        "colab_type": "code",
        "colab": {}
      },
      "cell_type": "code",
      "source": [
        "import pandas as pd\n",
        "prediction = pd.DataFrame(predictions, columns=['Short_term_score','Long_term_score']).to_csv('./predictions.csv')\n"
      ],
      "execution_count": 0,
      "outputs": []
    },
    {
      "metadata": {
        "id": "LblYld4GEtZr",
        "colab_type": "code",
        "colab": {}
      },
      "cell_type": "code",
      "source": [
        "model.save('./final_model_memory.h5')  # creates a HDF5 file 'final_model_memory.h5'"
      ],
      "execution_count": 0,
      "outputs": []
    },
    {
      "metadata": {
        "id": "Go5Qc58GHcTq",
        "colab_type": "code",
        "colab": {}
      },
      "cell_type": "code",
      "source": [
        ""
      ],
      "execution_count": 0,
      "outputs": []
    }
  ]
}